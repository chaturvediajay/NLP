{
  "cells": [
    {
      "cell_type": "markdown",
      "metadata": {
        "id": "view-in-github",
        "colab_type": "text"
      },
      "source": [
        "<a href=\"https://colab.research.google.com/github/chaturvediajay/NLP/blob/main/Regular_Expressions.ipynb\" target=\"_parent\"><img src=\"https://colab.research.google.com/assets/colab-badge.svg\" alt=\"Open In Colab\"/></a>"
      ]
    },
    {
      "cell_type": "markdown",
      "metadata": {
        "id": "9d47HmFEZTs2"
      },
      "source": [
        "## Regular Expressions\n",
        "Regular expression is a set of characters, called as the pattern, which helps in finding substrings in a given string. The pattern is used to detect the substrings\n",
        "\n",
        "For example, suppose you have a dataset of customer reviews about your restaurant. Say, you want to extract the emojis from the reviews because they are a good predictor os the sentiment of the review.\n",
        "\n",
        "Take another example, the artificial assistants such as Siri, Google Now use information retrieval to give you better results. When you ask them for any query or ask them to search for something interesting on the screen, they look for common patterns such as emails, phone numbers, place names, date and time and so on. This is because then the assitant can automatically make a booking or ask you to call the resturant to make a booking.\n",
        "\n",
        "Regular expressions are very powerful tool in text processing. It will help you to clean and handle your text in a much better way."
      ]
    },
    {
      "cell_type": "markdown",
      "metadata": {
        "id": "494MwV0yZTs4"
      },
      "source": [
        "### Let's import the regular expression library in python."
      ]
    },
    {
      "cell_type": "code",
      "execution_count": null,
      "metadata": {
        "id": "m1nZKedxZTs5"
      },
      "outputs": [],
      "source": [
        "import re"
      ]
    },
    {
      "cell_type": "markdown",
      "metadata": {
        "id": "EbDZm_lSZTs6"
      },
      "source": [
        "Let's do a quick search using a pattern."
      ]
    },
    {
      "cell_type": "code",
      "execution_count": null,
      "metadata": {
        "id": "bqr9xK6RZTs6",
        "outputId": "eeeb82e8-16c8-4ab1-cbb8-dab883fbd159"
      },
      "outputs": [
        {
          "data": {
            "text/plain": [
              "<re.Match object; span=(0, 4), match='Ravi'>"
            ]
          },
          "execution_count": 2,
          "metadata": {},
          "output_type": "execute_result"
        }
      ],
      "source": [
        "re.search('Ravi', 'Ravi is an exceptional student!')"
      ]
    },
    {
      "cell_type": "code",
      "execution_count": null,
      "metadata": {
        "id": "AX77GhqhZTs8",
        "outputId": "90d54c3d-478f-4873-c329-92d223ce5337"
      },
      "outputs": [
        {
          "name": "stdout",
          "output_type": "stream",
          "text": [
            "Ravi\n"
          ]
        }
      ],
      "source": [
        "# print output of re.search()\n",
        "match = re.search('Ravi', 'Ravi is an exceptional student!')\n",
        "print(match.group())"
      ]
    },
    {
      "cell_type": "markdown",
      "metadata": {
        "id": "Sp1klWtrZTs8"
      },
      "source": [
        "Let's define a function to match regular expression patterns"
      ]
    },
    {
      "cell_type": "code",
      "execution_count": null,
      "metadata": {
        "id": "eRJQ3HQaZTs9"
      },
      "outputs": [],
      "source": [
        "def find_pattern(text, patterns):\n",
        "    if re.search(patterns, text):\n",
        "        return re.search(patterns, text)\n",
        "    else:\n",
        "        return 'Not Found!'"
      ]
    },
    {
      "cell_type": "markdown",
      "metadata": {
        "id": "cQCH5G2QZTs9"
      },
      "source": [
        "### Quantifiers"
      ]
    },
    {
      "cell_type": "code",
      "execution_count": null,
      "metadata": {
        "id": "fKZxeeKkZTs9",
        "outputId": "013837a3-314b-4545-a6f2-5607d047f87d"
      },
      "outputs": [
        {
          "name": "stdout",
          "output_type": "stream",
          "text": [
            "<re.Match object; span=(0, 1), match='a'>\n",
            "<re.Match object; span=(0, 2), match='ab'>\n",
            "<re.Match object; span=(0, 3), match='abb'>\n"
          ]
        }
      ],
      "source": [
        "# '*': Zero or more \n",
        "print(find_pattern(\"ac\", \"ab*\"))\n",
        "print(find_pattern(\"abc\", \"ab*\"))\n",
        "print(find_pattern(\"abbc\", \"ab*\"))"
      ]
    },
    {
      "cell_type": "code",
      "execution_count": null,
      "metadata": {
        "id": "tgCJiqP4ZTs-",
        "outputId": "a5174b89-f9e6-4214-ce11-e675806654bd"
      },
      "outputs": [
        {
          "name": "stdout",
          "output_type": "stream",
          "text": [
            "<re.Match object; span=(0, 1), match='a'>\n",
            "<re.Match object; span=(0, 2), match='ab'>\n",
            "<re.Match object; span=(0, 2), match='ab'>\n"
          ]
        }
      ],
      "source": [
        "# '?': Zero or one (tells whether a pattern is absent or present)\n",
        "print(find_pattern(\"ac\", \"ab?\"))\n",
        "print(find_pattern(\"abc\", \"ab?\"))\n",
        "print(find_pattern(\"abbc\", \"ab?\"))"
      ]
    },
    {
      "cell_type": "code",
      "execution_count": null,
      "metadata": {
        "id": "VRSSEzaYZTs_",
        "outputId": "d384868b-8248-4d92-e85e-5e96ea5f24f1"
      },
      "outputs": [
        {
          "name": "stdout",
          "output_type": "stream",
          "text": [
            "Not Found!\n",
            "<re.Match object; span=(0, 2), match='ab'>\n",
            "<re.Match object; span=(0, 3), match='abb'>\n"
          ]
        }
      ],
      "source": [
        "# '+': One or more\n",
        "print(find_pattern(\"ac\", \"ab+\"))\n",
        "print(find_pattern(\"abc\", \"ab+\"))\n",
        "print(find_pattern(\"abbc\", \"ab+\"))"
      ]
    },
    {
      "cell_type": "code",
      "execution_count": null,
      "metadata": {
        "id": "b5hkivg_ZTs_",
        "outputId": "a08cbeab-6045-4050-d759-7a8e6f6f20bf"
      },
      "outputs": [
        {
          "name": "stdout",
          "output_type": "stream",
          "text": [
            "<re.Match object; span=(0, 3), match='abb'>\n"
          ]
        }
      ],
      "source": [
        "# {n}: Matches if a character is present exactly n number of times\n",
        "print(find_pattern(\"abbc\", \"ab{2}\"))\n"
      ]
    },
    {
      "cell_type": "code",
      "execution_count": null,
      "metadata": {
        "id": "CKmp262xZTtA",
        "outputId": "8b5a6778-e8ef-4e70-e3a2-7107e7e65fb6"
      },
      "outputs": [
        {
          "name": "stdout",
          "output_type": "stream",
          "text": [
            "<re.Match object; span=(1, 7), match='abbbbb'>\n",
            "Not Found!\n",
            "<re.Match object; span=(0, 1), match='a'>\n",
            "Not Found!\n"
          ]
        }
      ],
      "source": [
        "# {m,n}: Matches if a character is present from m to n number of times\n",
        "print(find_pattern(\"aabbbbbbc\", \"ab{3,5}\"))   # return true if 'b' is present 3-5 times\n",
        "print(find_pattern(\"aabbbbbbc\", \"ab{7,10}\"))  # return true if 'b' is present 7-10 times\n",
        "print(find_pattern(\"aabbbbbbc\", \"ab{,10}\"))   # return true if 'b' is present atmost 10 times\n",
        "print(find_pattern(\"aabbbbbbc\", \"ab{10,}\"))   # return true if 'b' is present from at least 10 times"
      ]
    },
    {
      "cell_type": "markdown",
      "metadata": {
        "id": "6zDQ4BmTZTtA"
      },
      "source": [
        "### Anchors"
      ]
    },
    {
      "cell_type": "code",
      "execution_count": null,
      "metadata": {
        "id": "kGueUj2yZTtA",
        "outputId": "95829ad9-2185-4e15-94a0-78b4737db365"
      },
      "outputs": [
        {
          "name": "stdout",
          "output_type": "stream",
          "text": [
            "<re.Match object; span=(0, 1), match='J'>\n",
            "Not Found!\n",
            "<re.Match object; span=(4, 5), match='a'>\n",
            "Not Found!\n"
          ]
        }
      ],
      "source": [
        "# '^': Indicates start of a string\n",
        "# '$': Indicates end of string\n",
        "\n",
        "print(find_pattern(\"James\", \"^J\"))   # return true if string starts with 'J' \n",
        "print(find_pattern(\"Pramod\", \"^J\"))  # return true if string starts with 'J' \n",
        "print(find_pattern(\"India\", \"a$\"))   # return true if string ends with 'c'\n",
        "print(find_pattern(\"Japan\", \"a$\"))   # return true if string ends with 'c'\n"
      ]
    },
    {
      "cell_type": "markdown",
      "metadata": {
        "id": "vTkk2mF_ZTtD"
      },
      "source": [
        "### Wildcard"
      ]
    },
    {
      "cell_type": "code",
      "execution_count": null,
      "metadata": {
        "id": "QDLwXqoLZTtD",
        "outputId": "ba9c4332-4e43-4c50-d830-21a8fc6cbe45"
      },
      "outputs": [
        {
          "name": "stdout",
          "output_type": "stream",
          "text": [
            "<re.Match object; span=(0, 1), match='a'>\n",
            "<re.Match object; span=(0, 1), match='#'>\n"
          ]
        }
      ],
      "source": [
        "# '.': Matches any character\n",
        "print(find_pattern(\"a\", \".\"))\n",
        "print(find_pattern(\"#\", \".\"))\n"
      ]
    },
    {
      "cell_type": "markdown",
      "metadata": {
        "id": "FgyO48IBZTtE"
      },
      "source": [
        "### Character sets"
      ]
    },
    {
      "cell_type": "code",
      "execution_count": null,
      "metadata": {
        "id": "6_hCv86iZTtF",
        "outputId": "ea49eb33-67a2-4dcb-e48e-1d29754bbf0f"
      },
      "outputs": [
        {
          "name": "stdout",
          "output_type": "stream",
          "text": [
            "<re.Match object; span=(0, 1), match='a'>\n",
            "<re.Match object; span=(0, 1), match='c'>\n"
          ]
        }
      ],
      "source": [
        "# Now we will look at '[' and ']'.\n",
        "# They're used for specifying a character class, which is a set of characters that you wish to match.\n",
        "# Characters can be listed individually as follows\n",
        "print(find_pattern(\"a\", \"[abc]\"))\n",
        "\n",
        "# Or a range of characters can be indicated by giving two characters and separating them by a '-'.\n",
        "print(find_pattern(\"c\", \"[a-c]\"))  # same as above"
      ]
    },
    {
      "cell_type": "code",
      "execution_count": null,
      "metadata": {
        "id": "HNZjzaAGZTtF",
        "outputId": "200d3c25-25f0-46e8-8789-5ce6f0e5ee3f"
      },
      "outputs": [
        {
          "name": "stdout",
          "output_type": "stream",
          "text": [
            "Not Found!\n"
          ]
        }
      ],
      "source": [
        "# '^' is used inside character set to indicate complementary set\n",
        "print(find_pattern(\"a\", \"[^abc]\"))  # return true if neither of these is present - a,b or c"
      ]
    },
    {
      "cell_type": "markdown",
      "metadata": {
        "id": "Pea6tZ8BZTtG"
      },
      "source": [
        "### Character sets\n",
        "| Pattern  | Matches                                                                                    |\n",
        "|----------|--------------------------------------------------------------------------------------------|\n",
        "| [abc]    | Matches either an a, b or c character                                                      |\n",
        "| [abcABC] | Matches either an a, A, b, B, c or C character                                             |\n",
        "| [a-z]    | Matches any characters between a and z, including a and z                                  |\n",
        "| [A-Z]    | Matches any characters between A and Z, including A and Z                                  |\n",
        "| [a-zA-Z] | Matches any characters between a and z, including a and z ignoring cases of the characters |\n",
        "| [0-9]    | Matches any character which is a number between 0 and 9                                    |"
      ]
    },
    {
      "cell_type": "markdown",
      "metadata": {
        "id": "_MsN7W1EZTtG"
      },
      "source": [
        "### Meta sequences\n",
        "\n",
        "| Pattern  | Equivalent to    |\n",
        "|----------|------------------|\n",
        "| \\s       | [ \\t\\n\\r\\f\\v]    |\n",
        "| \\S       | [^ \\t\\n\\r\\f\\v]   |\n",
        "| \\d       | [0-9]            |\n",
        "| \\D       | [^0-9]           |\n",
        "| \\w       | [a-zA-Z0-9_]     |\n",
        "| \\W       | [^a-zA-Z0-9_]    |"
      ]
    },
    {
      "cell_type": "markdown",
      "metadata": {
        "id": "LqXyrlNZZTtH"
      },
      "source": [
        "### Greedy vs non-greedy regex"
      ]
    },
    {
      "cell_type": "code",
      "execution_count": null,
      "metadata": {
        "id": "83y5bEvlZTtH",
        "outputId": "95211f4b-326a-4bf4-d3b7-8cfb28b411b5"
      },
      "outputs": [
        {
          "name": "stdout",
          "output_type": "stream",
          "text": [
            "<re.Match object; span=(1, 7), match='abbbbb'>\n"
          ]
        }
      ],
      "source": [
        "print(find_pattern(\"aabbbbbb\", \"ab{3,5}\")) # return if a is followed by b 3-5 times GREEDY"
      ]
    },
    {
      "cell_type": "code",
      "execution_count": null,
      "metadata": {
        "id": "10hDFcLdZTtH",
        "outputId": "baf648a8-73f9-4c52-f0d7-e3440ed463a0"
      },
      "outputs": [
        {
          "name": "stdout",
          "output_type": "stream",
          "text": [
            "<re.Match object; span=(1, 5), match='abbb'>\n"
          ]
        }
      ],
      "source": [
        "print(find_pattern(\"aabbbbbb\", \"ab{3,5}?\")) # return if a is followed by b 3-5 times GREEDY"
      ]
    },
    {
      "cell_type": "code",
      "execution_count": null,
      "metadata": {
        "id": "Wd9iBjLfZTtI",
        "outputId": "52ab22aa-1d14-457e-c197-f7df276d2785"
      },
      "outputs": [
        {
          "name": "stdout",
          "output_type": "stream",
          "text": [
            "<re.Match object; span=(0, 35), match='<HTML><TITLE>My Page</TITLE></HTML>'>\n"
          ]
        }
      ],
      "source": [
        "# Example of HTML code\n",
        "print(re.search(\"<.*>\",\"<HTML><TITLE>My Page</TITLE></HTML>\"))"
      ]
    },
    {
      "cell_type": "code",
      "execution_count": null,
      "metadata": {
        "id": "M-ZQP9yBZTtI",
        "outputId": "23572f7f-14c5-461a-a2d9-9538794eb74c"
      },
      "outputs": [
        {
          "name": "stdout",
          "output_type": "stream",
          "text": [
            "<re.Match object; span=(0, 6), match='<HTML>'>\n"
          ]
        }
      ],
      "source": [
        "# Example of HTML code\n",
        "print(re.search(\"<.*?>\",\"<HTML><TITLE>My Page</TITLE></HTML>\"))"
      ]
    },
    {
      "cell_type": "markdown",
      "metadata": {
        "id": "Q6qgBt8SZTtI"
      },
      "source": [
        "### The five most important re functions that you would be required to use most of the times are\n",
        "\n",
        "match() Determine if the RE matches at the beginning of the string\n",
        "\n",
        "search() Scan through a string, looking for any location where this RE matches\n",
        "\n",
        "finall() Find all the substrings where the RE matches, and return them as a list\n",
        "\n",
        "finditer() Find all substrings where RE matches and return them as asn iterator\n",
        "\n",
        "sub() Find all substrings where the RE matches and substitute them with the given string"
      ]
    },
    {
      "cell_type": "code",
      "execution_count": null,
      "metadata": {
        "id": "YHVNEULFZTtI"
      },
      "outputs": [],
      "source": [
        "# - this function uses the re.match() and let's see how it differs from re.search()\n",
        "def match_pattern(text, patterns):\n",
        "    if re.match(patterns, text):\n",
        "        return re.match(patterns, text)\n",
        "    else:\n",
        "        return ('Not found!')"
      ]
    },
    {
      "cell_type": "code",
      "execution_count": null,
      "metadata": {
        "id": "42ML-SSpZTtJ",
        "outputId": "f25624d0-323a-499c-d6a3-4e30fec17b57"
      },
      "outputs": [
        {
          "name": "stdout",
          "output_type": "stream",
          "text": [
            "<re.Match object; span=(1, 3), match='bb'>\n"
          ]
        }
      ],
      "source": [
        "print(find_pattern(\"abbc\", \"b+\"))"
      ]
    },
    {
      "cell_type": "code",
      "execution_count": null,
      "metadata": {
        "id": "oxVD4U1BZTtJ",
        "outputId": "e8c87958-ce5d-4f96-ae37-1519c4380662"
      },
      "outputs": [
        {
          "name": "stdout",
          "output_type": "stream",
          "text": [
            "Not found!\n"
          ]
        }
      ],
      "source": [
        "print(match_pattern(\"abbc\", \"b+\"))"
      ]
    },
    {
      "cell_type": "code",
      "execution_count": null,
      "metadata": {
        "id": "NO-C6YlkZTtJ",
        "outputId": "9357d4e1-4661-4101-9901-4087a1c42c7e"
      },
      "outputs": [
        {
          "name": "stdout",
          "output_type": "stream",
          "text": [
            "21 Ramakrishna Rd\n"
          ]
        }
      ],
      "source": [
        "## Example usage of the sub() function. Replace Road with rd.\n",
        "\n",
        "street = '21 Ramakrishna Road'\n",
        "print(re.sub('Road', 'Rd', street))"
      ]
    },
    {
      "cell_type": "code",
      "execution_count": null,
      "metadata": {
        "id": "8Bx23w20ZTtK",
        "outputId": "9afee98a-22fd-4340-bd6a-64b4e274acc1"
      },
      "outputs": [
        {
          "name": "stdout",
          "output_type": "stream",
          "text": [
            "21 Rd Rd\n"
          ]
        }
      ],
      "source": [
        "print(re.sub('R\\w+', 'Rd', street))"
      ]
    },
    {
      "cell_type": "code",
      "execution_count": null,
      "metadata": {
        "id": "wI8XhKk5ZTtK",
        "outputId": "7d8406df-4ae4-41ae-d79f-3cf9c7df0f92"
      },
      "outputs": [
        {
          "name": "stdout",
          "output_type": "stream",
          "text": [
            "START - 12END - 20\n",
            "START - 42END - 50\n"
          ]
        }
      ],
      "source": [
        "## Example usage of finditer(). Find all occurrences of word Festival in given sentence\n",
        "\n",
        "text = 'Diwali is a festival of lights, Holi is a festival of colors!'\n",
        "pattern = 'festival'\n",
        "for match in re.finditer(pattern, text):\n",
        "    print('START -', match.start(), end=\"\")\n",
        "    print('END -', match.end())"
      ]
    },
    {
      "cell_type": "code",
      "execution_count": null,
      "metadata": {
        "id": "qt6w7jRkZTtK",
        "outputId": "01dac4c8-6afe-4a51-c2ce-1953d52a06c3"
      },
      "outputs": [
        {
          "name": "stdout",
          "output_type": "stream",
          "text": [
            "[('2017', '10', '28')]\n"
          ]
        }
      ],
      "source": [
        "# Example usage of findall(). In the given URL find all dates\n",
        "url = \"http://www.telegraph.co.uk/formula-1/2017/10/28/mexican-grand-prix-2017-time-does-start-tv-channel-odds-lewisl/2017/05/12\"\n",
        "date_regex = '/(\\d{4})/(\\d{1,2})/(\\d{1,2})/'\n",
        "print(re.findall(date_regex, url))"
      ]
    },
    {
      "cell_type": "code",
      "execution_count": null,
      "metadata": {
        "id": "eO6zxGckZTtL",
        "outputId": "e6713cdf-04a5-4d67-908f-f26b1c0eb1ae"
      },
      "outputs": [
        {
          "name": "stdout",
          "output_type": "stream",
          "text": [
            "/2017/10/28/\n"
          ]
        }
      ],
      "source": [
        "## Exploring Groups\n",
        "m1 = re.search(date_regex, url)\n",
        "print(m1.group())  ## print the matched group"
      ]
    },
    {
      "cell_type": "code",
      "execution_count": null,
      "metadata": {
        "id": "-vfHUtKvZTtM",
        "outputId": "523535fd-422c-4a09-e895-43bcf12abc21"
      },
      "outputs": [
        {
          "name": "stdout",
          "output_type": "stream",
          "text": [
            "2017\n"
          ]
        }
      ],
      "source": [
        "print(m1.group(1)) # - Print first group"
      ]
    },
    {
      "cell_type": "code",
      "execution_count": null,
      "metadata": {
        "id": "a5X4jpo_ZTtM",
        "outputId": "a94b6a77-4bce-48b3-94fb-e36ebdc12233"
      },
      "outputs": [
        {
          "name": "stdout",
          "output_type": "stream",
          "text": [
            "10\n"
          ]
        }
      ],
      "source": [
        "print(m1.group(2)) # - Print second group"
      ]
    },
    {
      "cell_type": "code",
      "execution_count": null,
      "metadata": {
        "id": "qRmH8SkiZTtM",
        "outputId": "69bfda27-f16c-4b2c-8fb0-615c021e0182"
      },
      "outputs": [
        {
          "name": "stdout",
          "output_type": "stream",
          "text": [
            "28\n"
          ]
        }
      ],
      "source": [
        "print(m1.group(3)) # - Print third group"
      ]
    },
    {
      "cell_type": "code",
      "execution_count": null,
      "metadata": {
        "id": "4S2zBST-ZTtN",
        "outputId": "835b5288-4824-4643-c3dd-78b9ddb901b2"
      },
      "outputs": [
        {
          "name": "stdout",
          "output_type": "stream",
          "text": [
            "/2017/10/28/\n"
          ]
        }
      ],
      "source": [
        "print(m1.group(0)) # - Print zero or the default group"
      ]
    }
  ],
  "metadata": {
    "kernelspec": {
      "display_name": "Python 3",
      "language": "python",
      "name": "python3"
    },
    "language_info": {
      "codemirror_mode": {
        "name": "ipython",
        "version": 3
      },
      "file_extension": ".py",
      "mimetype": "text/x-python",
      "name": "python",
      "nbconvert_exporter": "python",
      "pygments_lexer": "ipython3",
      "version": "3.7.0"
    },
    "colab": {
      "name": "Regular_Expressions.ipynb",
      "provenance": [],
      "include_colab_link": true
    }
  },
  "nbformat": 4,
  "nbformat_minor": 0
}