{
  "nbformat": 4,
  "nbformat_minor": 0,
  "metadata": {
    "kernelspec": {
      "display_name": "Python 3",
      "language": "python",
      "name": "python3"
    },
    "language_info": {
      "codemirror_mode": {
        "name": "ipython",
        "version": 3
      },
      "file_extension": ".py",
      "mimetype": "text/x-python",
      "name": "python",
      "nbconvert_exporter": "python",
      "pygments_lexer": "ipython3",
      "version": "3.7.3"
    },
    "colab": {
      "name": "soundex.ipynb",
      "provenance": [],
      "include_colab_link": true
    }
  },
  "cells": [
    {
      "cell_type": "markdown",
      "metadata": {
        "id": "view-in-github",
        "colab_type": "text"
      },
      "source": [
        "<a href=\"https://colab.research.google.com/github/chaturvediajay/NLP/blob/main/soundex.ipynb\" target=\"_parent\"><img src=\"https://colab.research.google.com/assets/colab-badge.svg\" alt=\"Open In Colab\"/></a>"
      ]
    },
    {
      "cell_type": "markdown",
      "metadata": {
        "id": "kYgo84wIze_M"
      },
      "source": [
        "## Soundex"
      ]
    },
    {
      "cell_type": "markdown",
      "metadata": {
        "id": "o8tC-z_Uze_q"
      },
      "source": [
        "Let's create a function which calculates the soundex of any given string "
      ]
    },
    {
      "cell_type": "code",
      "metadata": {
        "id": "TT0a4WFSze_r"
      },
      "source": [
        "def get_soundex(token):\n",
        "    \"\"\"Get the soundex code for the string\"\"\"\n",
        "    token = token.upper()\n",
        "\n",
        "    soundex = \"\"\n",
        "    \n",
        "    # first letter of input is always the first letter of soundex\n",
        "    soundex += token[0]\n",
        "    \n",
        "    # create a dictionary which maps letters to respective soundex codes. Vowels and 'H', 'W' and 'Y' will be represented by '.'\n",
        "    dictionary = {\"BFPV\": \"1\", \"CGJKQSXZ\":\"2\", \"DT\":\"3\", \"L\":\"4\", \"MN\":\"5\", \"R\":\"6\", \"AEIOUHWY\":\".\"}\n",
        "    \n",
        "    for char in token[1:]:\n",
        "        for key in dictionary.keys():\n",
        "            if char in key:\n",
        "                code = dictionary[key] \n",
        "                if code != '.': \n",
        "                    if code != soundex[-1]: \n",
        "                        soundex += code \n",
        "                    \n",
        "    \n",
        "    # trim or pad to make soundex a 4-character code\n",
        "    soundex = soundex[:4].ljust(4, \"0\")\n",
        "        \n",
        "    return soundex"
      ],
      "execution_count": 1,
      "outputs": []
    },
    {
      "cell_type": "markdown",
      "metadata": {
        "id": "m_j-c2pLze_u"
      },
      "source": [
        "Let's see what's the soudex of 'Bombay' and 'Bambai'"
      ]
    },
    {
      "cell_type": "code",
      "metadata": {
        "colab": {
          "base_uri": "https://localhost:8080/"
        },
        "id": "kFIAlFJQze_v",
        "outputId": "2278e415-cefb-4d6c-b270-70bc41c4921e"
      },
      "source": [
        "print(get_soundex(\"STOUT\"))\n",
        "print(get_soundex(\"Ashcraft\"))"
      ],
      "execution_count": 2,
      "outputs": [
        {
          "output_type": "stream",
          "name": "stdout",
          "text": [
            "S300\n",
            "A261\n"
          ]
        }
      ]
    },
    {
      "cell_type": "code",
      "metadata": {
        "colab": {
          "base_uri": "https://localhost:8080/"
        },
        "id": "aHsn_tbvze_z",
        "outputId": "fdcd85f0-ec11-469f-9ffa-d66fa36734c2"
      },
      "source": [
        "print(get_soundex(\"STOUT\"))\n",
        "print(get_soundex(\"Ashcraft\"))"
      ],
      "execution_count": 3,
      "outputs": [
        {
          "output_type": "stream",
          "name": "stdout",
          "text": [
            "S300\n",
            "A261\n"
          ]
        }
      ]
    },
    {
      "cell_type": "markdown",
      "metadata": {
        "id": "nKKl5eB6ze_1"
      },
      "source": [
        "Let's see soundex of 'Aggrawal', 'Agrawal', 'Aggarwal' and 'Agarwal'"
      ]
    },
    {
      "cell_type": "code",
      "metadata": {
        "colab": {
          "base_uri": "https://localhost:8080/"
        },
        "id": "D5AeDMlnze_3",
        "outputId": "94228295-e2a8-4c94-9425-131c17387721"
      },
      "source": [
        "print(get_soundex(\"Aggrawal\"))\n",
        "print(get_soundex(\"Agrawal\"))\n",
        "print(get_soundex(\"Aggarwal\"))\n",
        "print(get_soundex(\"Agarwal\"))"
      ],
      "execution_count": 4,
      "outputs": [
        {
          "output_type": "stream",
          "name": "stdout",
          "text": [
            "A264\n",
            "A264\n",
            "A264\n",
            "A264\n"
          ]
        }
      ]
    }
  ]
}