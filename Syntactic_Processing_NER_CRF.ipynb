{
  "nbformat": 4,
  "nbformat_minor": 0,
  "metadata": {
    "colab": {
      "name": "Syntactic_Processing_NER_CRF.ipynb",
      "provenance": [],
      "authorship_tag": "ABX9TyPzjVn7hPHuegoToeS7v7/I",
      "include_colab_link": true
    },
    "kernelspec": {
      "name": "python3",
      "display_name": "Python 3"
    },
    "language_info": {
      "name": "python"
    }
  },
  "cells": [
    {
      "cell_type": "markdown",
      "metadata": {
        "id": "view-in-github",
        "colab_type": "text"
      },
      "source": [
        "<a href=\"https://colab.research.google.com/github/chaturvediajay/NLP/blob/main/Syntactic_Processing_NER_CRF.ipynb\" target=\"_parent\"><img src=\"https://colab.research.google.com/assets/colab-badge.svg\" alt=\"Open In Colab\"/></a>"
      ]
    },
    {
      "cell_type": "markdown",
      "metadata": {
        "id": "sGzah86QEMh1"
      },
      "source": [
        "Name Entity Recognition (NER)\n",
        "\n",
        "1.   Custom NER \n",
        "2.   using Conditional Random Fields (CRF)\n",
        "3.   Python implementation of NER and CRF\n",
        "\n",
        "\n",
        "\n",
        "\n",
        "\n"
      ]
    },
    {
      "cell_type": "markdown",
      "metadata": {
        "id": "wslF0KtRGfym"
      },
      "source": [
        "---\n",
        "\n",
        "PER: Name of a person (John, James, Sachin Tendulkar)\n",
        "\n",
        "---\n",
        "\n",
        "GPE: Geopolitical entity (Europe, India, China)\n",
        "\n",
        "---\n",
        " ORG: Organisation (WHO, upGrad, Google)\n",
        "\n",
        "---\n",
        "LOC: Location (River, forest, country name)"
      ]
    },
    {
      "cell_type": "markdown",
      "metadata": {
        "id": "3M5REj_7JYH6"
      },
      "source": [
        "IOB (inside-outside-beginning) labelling is one of many popular formats in which the training data for creating a custom NER is stored. IOB labels are manually generated.\n",
        "This helps to identify entities that are made of a combination of words like ‘Indian Institute of Technology’, ‘New York’ and ‘Mohandas KaramChand Gandhi’.\n",
        "\n"
      ]
    },
    {
      "cell_type": "markdown",
      "metadata": {
        "id": "eapQ8ZJ9Q7LE"
      },
      "source": [
        "So, in the case of ‘Mohandas Karamchand Gandhi', the system will tag ‘Mohandas’ as B-PER, ‘Karamchand’ as I-PER and ‘Gandhi' as I-PER. Also, the words outside the entity ‘Mohandas Karamchand Gandhi' will be tagged as ‘O’."
      ]
    },
    {
      "cell_type": "code",
      "metadata": {
        "id": "VcJy0kycGfCL"
      },
      "source": [
        "\n",
        "import spacy # import spacy module"
      ],
      "execution_count": 1,
      "outputs": []
    },
    {
      "cell_type": "code",
      "metadata": {
        "id": "pl4lLGYzR-EC"
      },
      "source": [
        "model = spacy.load(\"en_core_web_sm\") #load pre-trained model\n",
        "\n",
        "doc = \"Sumit is an adjunct faculty at Upgrad. \"\n",
        "\n",
        "processed_doc = model(doc); #process input and perform NLP tasks"
      ],
      "execution_count": 2,
      "outputs": []
    },
    {
      "cell_type": "code",
      "metadata": {
        "id": "KHXEX-OyTkEL",
        "outputId": "968756b1-6ee9-413d-9b94-42760a8b51a9",
        "colab": {
          "base_uri": "https://localhost:8080/"
        }
      },
      "source": [
        "for ent in processed_doc.ents:\n",
        "  print(ent.text,'  -----  ',ent.start_char,'  ----- ',ent.end_char,'  --- ',ent.label_)\n"
      ],
      "execution_count": 8,
      "outputs": [
        {
          "output_type": "stream",
          "name": "stdout",
          "text": [
            "Upgrad   -----   31   -----  37   ---  GPE\n"
          ]
        }
      ]
    },
    {
      "cell_type": "code",
      "metadata": {
        "id": "h69WIKezSTrS"
      },
      "source": [
        "doc2 = \"Dr. Sumit is an adjunct faculty at UpGrad\"\n",
        "processed_doc2 = model(doc2)"
      ],
      "execution_count": 3,
      "outputs": []
    },
    {
      "cell_type": "code",
      "metadata": {
        "id": "rUz2_0KYSVXn",
        "outputId": "8d4889ee-a4bc-459b-fafc-058a3812ce7f",
        "colab": {
          "base_uri": "https://localhost:8080/"
        }
      },
      "source": [
        "for token in processed_doc2:\n",
        "  print(token.text, \" -- \", token.pos_)"
      ],
      "execution_count": 4,
      "outputs": [
        {
          "output_type": "stream",
          "name": "stdout",
          "text": [
            "Dr.  --  PROPN\n",
            "Sumit  --  PROPN\n",
            "is  --  AUX\n",
            "an  --  DET\n",
            "adjunct  --  ADJ\n",
            "faculty  --  NOUN\n",
            "at  --  ADP\n",
            "UpGrad  --  PROPN\n"
          ]
        }
      ]
    },
    {
      "cell_type": "code",
      "metadata": {
        "id": "lWloKfGySZT7"
      },
      "source": [
        ""
      ],
      "execution_count": null,
      "outputs": []
    }
  ]
}