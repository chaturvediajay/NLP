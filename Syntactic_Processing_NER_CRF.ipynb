{
  "nbformat": 4,
  "nbformat_minor": 0,
  "metadata": {
    "colab": {
      "name": "Syntactic_Processing_NER_CRF.ipynb",
      "provenance": [],
      "authorship_tag": "ABX9TyOArKWjEzmJF7sxkum+zPrR",
      "include_colab_link": true
    },
    "kernelspec": {
      "name": "python3",
      "display_name": "Python 3"
    },
    "language_info": {
      "name": "python"
    }
  },
  "cells": [
    {
      "cell_type": "markdown",
      "metadata": {
        "id": "view-in-github",
        "colab_type": "text"
      },
      "source": [
        "<a href=\"https://colab.research.google.com/github/chaturvediajay/NLP/blob/main/Syntactic_Processing_NER_CRF.ipynb\" target=\"_parent\"><img src=\"https://colab.research.google.com/assets/colab-badge.svg\" alt=\"Open In Colab\"/></a>"
      ]
    },
    {
      "cell_type": "markdown",
      "metadata": {
        "id": "sGzah86QEMh1"
      },
      "source": [
        "Name Entity Recognition (NER)\n",
        "\n",
        "1.   Custom NER \n",
        "2.   using Conditional Random Fields (CRF)\n",
        "3.   Python implementation of NER and CRF\n",
        "\n",
        "https://github.com/ContentUpgrad/Syntactic-Processing\n",
        "\n",
        "\n",
        "\n",
        "\n",
        "\n"
      ]
    },
    {
      "cell_type": "markdown",
      "metadata": {
        "id": "wslF0KtRGfym"
      },
      "source": [
        "---\n",
        "\n",
        "PER: Name of a person (John, James, Sachin Tendulkar)\n",
        "\n",
        "---\n",
        "\n",
        "GPE: Geopolitical entity (Europe, India, China)\n",
        "\n",
        "---\n",
        " ORG: Organisation (WHO, upGrad, Google)\n",
        "\n",
        "---\n",
        "LOC: Location (River, forest, country name)"
      ]
    },
    {
      "cell_type": "markdown",
      "metadata": {
        "id": "3M5REj_7JYH6"
      },
      "source": [
        "IOB (inside-outside-beginning) labelling is one of many popular formats in which the training data for creating a custom NER is stored. IOB labels are manually generated.\n",
        "This helps to identify entities that are made of a combination of words like ‘Indian Institute of Technology’, ‘New York’ and ‘Mohandas KaramChand Gandhi’.\n",
        "\n"
      ]
    },
    {
      "cell_type": "markdown",
      "metadata": {
        "id": "eapQ8ZJ9Q7LE"
      },
      "source": [
        "So, in the case of ‘Mohandas Karamchand Gandhi', the system will tag ‘Mohandas’ as B-PER, ‘Karamchand’ as I-PER and ‘Gandhi' as I-PER. Also, the words outside the entity ‘Mohandas Karamchand Gandhi' will be tagged as ‘O’."
      ]
    },
    {
      "cell_type": "code",
      "metadata": {
        "id": "VcJy0kycGfCL"
      },
      "source": [
        "\n",
        "import spacy # import spacy module"
      ],
      "execution_count": 1,
      "outputs": []
    },
    {
      "cell_type": "code",
      "metadata": {
        "id": "pl4lLGYzR-EC"
      },
      "source": [
        "model = spacy.load(\"en_core_web_sm\") #load pre-trained model\n",
        "\n",
        "doc = \"Sumit is an adjunct faculty at Upgrad. \"\n",
        "\n",
        "processed_doc = model(doc); #process input and perform NLP tasks"
      ],
      "execution_count": 2,
      "outputs": []
    },
    {
      "cell_type": "code",
      "metadata": {
        "colab": {
          "base_uri": "https://localhost:8080/"
        },
        "id": "KHXEX-OyTkEL",
        "outputId": "968756b1-6ee9-413d-9b94-42760a8b51a9"
      },
      "source": [
        "for ent in processed_doc.ents:\n",
        "  print(ent.text,'  -----  ',ent.start_char,'  ----- ',ent.end_char,'  --- ',ent.label_)\n"
      ],
      "execution_count": 8,
      "outputs": [
        {
          "output_type": "stream",
          "name": "stdout",
          "text": [
            "Upgrad   -----   31   -----  37   ---  GPE\n"
          ]
        }
      ]
    },
    {
      "cell_type": "code",
      "metadata": {
        "id": "h69WIKezSTrS"
      },
      "source": [
        "doc2 = \"Dr. Sumit is an adjunct faculty at UpGrad\"\n",
        "processed_doc2 = model(doc2)"
      ],
      "execution_count": 3,
      "outputs": []
    },
    {
      "cell_type": "code",
      "metadata": {
        "colab": {
          "base_uri": "https://localhost:8080/"
        },
        "id": "rUz2_0KYSVXn",
        "outputId": "8d4889ee-a4bc-459b-fafc-058a3812ce7f"
      },
      "source": [
        "for token in processed_doc2:\n",
        "  print(token.text, \" -- \", token.pos_)"
      ],
      "execution_count": 4,
      "outputs": [
        {
          "output_type": "stream",
          "name": "stdout",
          "text": [
            "Dr.  --  PROPN\n",
            "Sumit  --  PROPN\n",
            "is  --  AUX\n",
            "an  --  DET\n",
            "adjunct  --  ADJ\n",
            "faculty  --  NOUN\n",
            "at  --  ADP\n",
            "UpGrad  --  PROPN\n"
          ]
        }
      ]
    },
    {
      "cell_type": "code",
      "metadata": {
        "id": "lWloKfGySZT7"
      },
      "source": [
        "doc3 = \"Statue of Liberty is situated in New York, USA.\"\n",
        "processed_doc3 = model(doc3)"
      ],
      "execution_count": 9,
      "outputs": []
    },
    {
      "cell_type": "code",
      "metadata": {
        "colab": {
          "base_uri": "https://localhost:8080/"
        },
        "id": "2mIw4jNeVgOp",
        "outputId": "2b71b152-b437-4d68-e3f6-22f2c279d311"
      },
      "source": [
        "for token in processed_doc3:\n",
        "  print(token.text, \" -- \", token.pos_)"
      ],
      "execution_count": 10,
      "outputs": [
        {
          "output_type": "stream",
          "name": "stdout",
          "text": [
            "Statue  --  PROPN\n",
            "of  --  ADP\n",
            "Liberty  --  PROPN\n",
            "is  --  AUX\n",
            "situated  --  VERB\n",
            "in  --  ADP\n",
            "New  --  PROPN\n",
            "York  --  PROPN\n",
            ",  --  PUNCT\n",
            "USA  --  PROPN\n",
            ".  --  PUNCT\n"
          ]
        }
      ]
    },
    {
      "cell_type": "markdown",
      "metadata": {
        "id": "i4AowquWWYkp"
      },
      "source": [
        "IOB label data"
      ]
    },
    {
      "cell_type": "code",
      "metadata": {
        "colab": {
          "base_uri": "https://localhost:8080/"
        },
        "id": "YUIqxkFIVh-T",
        "outputId": "5e9b6c06-8fd5-4727-a0d9-77f2d3917361"
      },
      "source": [
        "for ent in processed_doc3.ents:\n",
        "  print(ent.text,'  -----  ',ent.start_char,'  ----- ',ent.end_char,'  --- ',ent.label_)"
      ],
      "execution_count": 13,
      "outputs": [
        {
          "output_type": "stream",
          "name": "stdout",
          "text": [
            "Liberty   -----   10   -----  17   ---  GPE\n",
            "New York   -----   33   -----  41   ---  GPE\n",
            "USA   -----   43   -----  46   ---  GPE\n"
          ]
        }
      ]
    },
    {
      "cell_type": "code",
      "metadata": {
        "colab": {
          "base_uri": "https://localhost:8080/"
        },
        "id": "tCAlJ22mWeqh",
        "outputId": "129c138b-f9ad-4cfa-b261-07cf9b239cae"
      },
      "source": [
        "for token in processed_doc3:\n",
        "  print(token.text,'  -----  ',token.ent_iob_,'  ----- ',token.ent_type_)"
      ],
      "execution_count": 14,
      "outputs": [
        {
          "output_type": "stream",
          "name": "stdout",
          "text": [
            "Statue   -----   O   -----  \n",
            "of   -----   O   -----  \n",
            "Liberty   -----   B   -----  GPE\n",
            "is   -----   O   -----  \n",
            "situated   -----   O   -----  \n",
            "in   -----   O   -----  \n",
            "New   -----   B   -----  GPE\n",
            "York   -----   I   -----  GPE\n",
            ",   -----   O   -----  \n",
            "USA   -----   B   -----  GPE\n",
            ".   -----   O   -----  \n"
          ]
        }
      ]
    },
    {
      "cell_type": "code",
      "metadata": {
        "colab": {
          "base_uri": "https://localhost:8080/"
        },
        "id": "y1BURe-jXDyk",
        "outputId": "ecd292aa-e642-4d0e-a87a-38e2f6cbddf2"
      },
      "source": [
        "\n",
        "email = ('Dear Family, Jose Luis and I have changed our dates, we are '\n",
        "         'going to come to Aspen on the 23rd of December and leave on the '\n",
        "         '30th of December. We would like to stay in the front bedroom of '\n",
        "         'the Aspen Cottage so that Mark, Natalie and Zachary can stay in '\n",
        "         'the guest cottage. Please let me know if there are any problems '\n",
        "         'with this. If I do not hear anything, I will assume this is all '\n",
        "         'o.k. with you.'\n",
        "         'Love, Liz')\n",
        "processed_email = model(email) # Apply spacy's model to process the email\n",
        " \n",
        "anonymized_email = list(email) # initialize data structure to store anonymized email\n",
        " \n",
        "\n",
        "for ent in processed_email.ents:\n",
        "  if(ent.label_ == 'DATE'): \n",
        "    for char_pos in range(ent.start_char, ent.end_char): # use character positions\n",
        "      anonymized_email[char_pos] = '#'    \n",
        " \n",
        "print(\"\\n\\n-- After Anonymization--\\n\")\n",
        "Anonymized_sentence = \"\".join(anonymized_email)\n",
        "print(Anonymized_sentence)"
      ],
      "execution_count": 20,
      "outputs": [
        {
          "output_type": "stream",
          "name": "stdout",
          "text": [
            "\n",
            "\n",
            "-- After Anonymization--\n",
            "\n",
            "Dear Family, Jose Luis and I have changed our dates, we are going to come to Aspen on #################### and leave on ####################. We would like to stay in the front bedroom of the Aspen Cottage so that Mark, Natalie and Zachary can stay in the guest cottage. Please let me know if there are any problems with this. If I do not hear anything, I will assume this is all o.k. with you.Love, Liz\n"
          ]
        }
      ]
    },
    {
      "cell_type": "code",
      "metadata": {
        "colab": {
          "base_uri": "https://localhost:8080/"
        },
        "id": "kAVd1Qh1Zali",
        "outputId": "ad671bce-0d0d-401a-ec1a-16335fe702cc"
      },
      "source": [
        "doc3 = \"Mr. Kenneth L. Lay, Chairman and CEO of Enron Corp. will not be             able to attend November 16,\"\n",
        "processed_doc3 = model(doc3)\n",
        "for ent in processed_doc3.ents:\n",
        "  print(ent.text, \" -- \", ent.start_char, \" -- \", ent.end_char, \" -- \", ent.label_)"
      ],
      "execution_count": 22,
      "outputs": [
        {
          "output_type": "stream",
          "name": "stdout",
          "text": [
            "Kenneth L. Lay  --  4  --  18  --  PERSON\n",
            "Enron Corp.  --  40  --  51  --  ORG\n",
            "November 16  --  91  --  102  --  DATE\n"
          ]
        }
      ]
    },
    {
      "cell_type": "code",
      "metadata": {
        "id": "_kXcRRlzZbZv"
      },
      "source": [
        ""
      ],
      "execution_count": null,
      "outputs": []
    }
  ]
}