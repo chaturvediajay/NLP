{
  "nbformat": 4,
  "nbformat_minor": 0,
  "metadata": {
    "colab": {
      "name": "Syntactic_Processing_NER_CRF.ipynb",
      "provenance": [],
      "authorship_tag": "ABX9TyPB340gyMQwgwOJPWVNzu70",
      "include_colab_link": true
    },
    "kernelspec": {
      "name": "python3",
      "display_name": "Python 3"
    },
    "language_info": {
      "name": "python"
    }
  },
  "cells": [
    {
      "cell_type": "markdown",
      "metadata": {
        "id": "view-in-github",
        "colab_type": "text"
      },
      "source": [
        "<a href=\"https://colab.research.google.com/github/chaturvediajay/NLP/blob/main/Syntactic_Processing_NER_CRF.ipynb\" target=\"_parent\"><img src=\"https://colab.research.google.com/assets/colab-badge.svg\" alt=\"Open In Colab\"/></a>"
      ]
    },
    {
      "cell_type": "markdown",
      "metadata": {
        "id": "sGzah86QEMh1"
      },
      "source": [
        "Name Entity Recognition (NER)\n",
        "\n",
        "1.   Custom NER \n",
        "2.   using Conditional Random Fields (CRF)\n",
        "3.   Python implementation of NER and CRF\n",
        "\n",
        "\n",
        "\n",
        "\n",
        "\n"
      ]
    },
    {
      "cell_type": "markdown",
      "metadata": {
        "id": "wslF0KtRGfym"
      },
      "source": [
        "---\n",
        "\n",
        "PER: Name of a person (John, James, Sachin Tendulkar)\n",
        "\n",
        "---\n",
        "\n",
        "GPE: Geopolitical entity (Europe, India, China)\n",
        "\n",
        "---\n",
        " ORG: Organisation (WHO, upGrad, Google)\n",
        "\n",
        "---\n",
        "LOC: Location (River, forest, country name)"
      ]
    },
    {
      "cell_type": "markdown",
      "metadata": {
        "id": "3M5REj_7JYH6"
      },
      "source": [
        "IOB (inside-outside-beginning) labelling is one of many popular formats in which the training data for creating a custom NER is stored. IOB labels are manually generated.\n",
        "This helps to identify entities that are made of a combination of words like ‘Indian Institute of Technology’, ‘New York’ and ‘Mohandas KaramChand Gandhi’.\n",
        "\n"
      ]
    },
    {
      "cell_type": "code",
      "metadata": {
        "id": "VcJy0kycGfCL"
      },
      "source": [
        ""
      ],
      "execution_count": null,
      "outputs": []
    }
  ]
}