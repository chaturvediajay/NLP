{
  "nbformat": 4,
  "nbformat_minor": 0,
  "metadata": {
    "kernelspec": {
      "display_name": "Python 3",
      "language": "python",
      "name": "python3"
    },
    "language_info": {
      "codemirror_mode": {
        "name": "ipython",
        "version": 3
      },
      "file_extension": ".py",
      "mimetype": "text/x-python",
      "name": "python",
      "nbconvert_exporter": "python",
      "pygments_lexer": "ipython3",
      "version": "3.6.5"
    },
    "colab": {
      "name": "edit+distance.ipynb",
      "provenance": [],
      "include_colab_link": true
    }
  },
  "cells": [
    {
      "cell_type": "markdown",
      "metadata": {
        "id": "view-in-github",
        "colab_type": "text"
      },
      "source": [
        "<a href=\"https://colab.research.google.com/github/chaturvediajay/NLP/blob/main/edit%2Bdistance.ipynb\" target=\"_parent\"><img src=\"https://colab.research.google.com/assets/colab-badge.svg\" alt=\"Open In Colab\"/></a>"
      ]
    },
    {
      "cell_type": "markdown",
      "metadata": {
        "id": "af5v8P6yCcMt"
      },
      "source": [
        "## Levenshtein Edit Distance\n",
        "The levenshtein distance calculates the number of steps (insertions, deletions or substitutions) required to go from source string to target string."
      ]
    },
    {
      "cell_type": "code",
      "metadata": {
        "collapsed": true,
        "id": "IQW6L0sqCcMz"
      },
      "source": [
        "def lev_distance(source='', target=''):\n",
        "    \"\"\"Make a Levenshtein Distances Matrix\"\"\"\n",
        "    \n",
        "    # get length of both strings\n",
        "    n1, n2 = len(source), len(target)\n",
        "    \n",
        "    # create matrix using length of both strings - source string sits on columns, target string sits on rows\n",
        "    matrix = [ [ 0 for i1 in range(n1 + 1) ] for i2 in range(n2 + 1) ]\n",
        "    \n",
        "    # fill the first row - (0 to n1-1)\n",
        "    for i1 in range(1, n1 + 1):\n",
        "        matrix[0][i1] = i1\n",
        "    \n",
        "    # fill the first column - (0 to n2-1)\n",
        "    for i2 in range(1, n2 + 1):\n",
        "        matrix[i2][0] = i2\n",
        "    \n",
        "    # fill the matrix\n",
        "    for i2 in range(1, n2 + 1):\n",
        "        for i1 in range(1, n1 + 1):\n",
        "            \n",
        "            # check whether letters being compared are same\n",
        "            if (source[i1-1] == target[i2-1]):\n",
        "                value = matrix[i2-1][i1-1]               # top-left cell value\n",
        "            else:\n",
        "                value = min(matrix[i2-1][i1]   + 1,      # left cell value     + 1\n",
        "                            matrix[i2][i1-1]   + 1,      # top cell  value     + 1\n",
        "                            matrix[i2-1][i1-1] + 1)      # top-left cell value + 1\n",
        "            \n",
        "            matrix[i2][i1] = value\n",
        "    \n",
        "    # return bottom-right cell value\n",
        "    return matrix[-1][-1]"
      ],
      "execution_count": 11,
      "outputs": []
    },
    {
      "cell_type": "code",
      "metadata": {
        "colab": {
          "base_uri": "https://localhost:8080/"
        },
        "id": "wXnDkoOECcM2",
        "outputId": "fcf57cf0-664f-4f81-ba1d-b72a8c73ddae"
      },
      "source": [
        "lev_distance('Mountain', 'Mountbatten')"
      ],
      "execution_count": 17,
      "outputs": [
        {
          "output_type": "execute_result",
          "data": {
            "text/plain": [
              "4"
            ]
          },
          "metadata": {},
          "execution_count": 17
        }
      ]
    },
    {
      "cell_type": "markdown",
      "metadata": {
        "id": "DdcRziu9CcM4"
      },
      "source": [
        "## Levenshtein distance in nltk library"
      ]
    },
    {
      "cell_type": "code",
      "metadata": {
        "collapsed": true,
        "id": "ovtCEsLgCcM5"
      },
      "source": [
        "# import library\n",
        "from nltk.metrics.distance import edit_distance"
      ],
      "execution_count": 13,
      "outputs": []
    },
    {
      "cell_type": "code",
      "metadata": {
        "colab": {
          "base_uri": "https://localhost:8080/"
        },
        "id": "m2ARHScMCcM6",
        "outputId": "9d9ed9d8-ed06-4690-b28b-a31a7e3b693f"
      },
      "source": [
        "edit_distance(\"apple\", \"appel\")"
      ],
      "execution_count": 14,
      "outputs": [
        {
          "output_type": "execute_result",
          "data": {
            "text/plain": [
              "2"
            ]
          },
          "metadata": {},
          "execution_count": 14
        }
      ]
    },
    {
      "cell_type": "markdown",
      "metadata": {
        "id": "d69zD0V0CcM8"
      },
      "source": [
        "## Damerau-Levenshtein Distance\n",
        "The Damerau-Levenshtein distance allows transpositions (swap of two letters which are adjacent to each other) as well."
      ]
    },
    {
      "cell_type": "code",
      "metadata": {
        "colab": {
          "base_uri": "https://localhost:8080/"
        },
        "id": "XC32pm72CcM9",
        "outputId": "84f11ce9-7e0f-4c40-b7f9-5cbdb7ef542c"
      },
      "source": [
        "edit_distance(\"apple\", \"appel\", transpositions=False, )"
      ],
      "execution_count": 15,
      "outputs": [
        {
          "output_type": "execute_result",
          "data": {
            "text/plain": [
              "2"
            ]
          },
          "metadata": {},
          "execution_count": 15
        }
      ]
    },
    {
      "cell_type": "code",
      "metadata": {
        "collapsed": true,
        "id": "V4DEG1DZCcM-"
      },
      "source": [
        ""
      ],
      "execution_count": 15,
      "outputs": []
    }
  ]
}