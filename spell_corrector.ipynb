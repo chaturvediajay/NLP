{
  "nbformat": 4,
  "nbformat_minor": 0,
  "metadata": {
    "kernelspec": {
      "display_name": "Python 3",
      "language": "python",
      "name": "python3"
    },
    "language_info": {
      "codemirror_mode": {
        "name": "ipython",
        "version": 3
      },
      "file_extension": ".py",
      "mimetype": "text/x-python",
      "name": "python",
      "nbconvert_exporter": "python",
      "pygments_lexer": "ipython3",
      "version": "3.6.4"
    },
    "colab": {
      "name": "spell-corrector.ipynb",
      "provenance": [],
      "include_colab_link": true
    }
  },
  "cells": [
    {
      "cell_type": "markdown",
      "metadata": {
        "id": "view-in-github",
        "colab_type": "text"
      },
      "source": [
        "<a href=\"https://colab.research.google.com/github/chaturvediajay/NLP/blob/main/spell_corrector.ipynb\" target=\"_parent\"><img src=\"https://colab.research.google.com/assets/colab-badge.svg\" alt=\"Open In Colab\"/></a>"
      ]
    },
    {
      "cell_type": "code",
      "metadata": {
        "collapsed": true,
        "id": "v7UGHrU-HsUE"
      },
      "source": [
        "import re\n",
        "from collections import Counter"
      ],
      "execution_count": 1,
      "outputs": []
    },
    {
      "cell_type": "code",
      "metadata": {
        "colab": {
          "base_uri": "https://localhost:8080/"
        },
        "id": "EvU687vhHvwC",
        "outputId": "d44c641f-ca0b-47b1-af7e-c155ae5fe71c"
      },
      "source": [
        "from google.colab import drive\n",
        "drive.mount('/content/drive')"
      ],
      "execution_count": 2,
      "outputs": [
        {
          "output_type": "stream",
          "name": "stdout",
          "text": [
            "Mounted at /content/drive\n"
          ]
        }
      ]
    },
    {
      "cell_type": "code",
      "metadata": {
        "collapsed": true,
        "id": "Zv-ZsOC9HsUG"
      },
      "source": [
        "# function to tokenise words\n",
        "def words(document):\n",
        "    \"Convert text to lower case and tokenise the document\"\n",
        "    return re.findall(r'\\w+', document.lower())"
      ],
      "execution_count": 3,
      "outputs": []
    },
    {
      "cell_type": "code",
      "metadata": {
        "collapsed": true,
        "id": "EkOs0F0NHsUG"
      },
      "source": [
        "# create a frequency table of all the words of the document\n",
        "all_words = Counter(words(open('/content/drive/MyDrive/al_ml_project/NLP/big.txt').read()))"
      ],
      "execution_count": 4,
      "outputs": []
    },
    {
      "cell_type": "code",
      "metadata": {
        "colab": {
          "base_uri": "https://localhost:8080/"
        },
        "id": "dkAlb_N5HsUH",
        "outputId": "f32681d6-2e33-4970-da2f-e097d245afde"
      },
      "source": [
        "# check frequency of a random word, say, 'chair'\n",
        "all_words['chair']"
      ],
      "execution_count": 5,
      "outputs": [
        {
          "output_type": "execute_result",
          "data": {
            "text/plain": [
              "135"
            ]
          },
          "metadata": {},
          "execution_count": 5
        }
      ]
    },
    {
      "cell_type": "code",
      "metadata": {
        "colab": {
          "base_uri": "https://localhost:8080/"
        },
        "id": "pz74IniqHsUH",
        "outputId": "d6b73c32-1155-4e4d-dc69-81e81a22e20e"
      },
      "source": [
        "# look at top 10 frequent words\n",
        "all_words.most_common(10)"
      ],
      "execution_count": 6,
      "outputs": [
        {
          "output_type": "execute_result",
          "data": {
            "text/plain": [
              "[('the', 79809),\n",
              " ('of', 40024),\n",
              " ('and', 38312),\n",
              " ('to', 28765),\n",
              " ('in', 22023),\n",
              " ('a', 21124),\n",
              " ('that', 12512),\n",
              " ('he', 12401),\n",
              " ('was', 11410),\n",
              " ('it', 10681)]"
            ]
          },
          "metadata": {},
          "execution_count": 6
        }
      ]
    },
    {
      "cell_type": "code",
      "metadata": {
        "collapsed": true,
        "id": "c0mlWdGeHsUH"
      },
      "source": [
        "def edits_one(word):\n",
        "    \"Create all edits that are one edit away from `word`.\"\n",
        "    alphabets    = 'abcdefghijklmnopqrstuvwxyz'\n",
        "    splits     = [(word[:i], word[i:])                   for i in range(len(word) + 1)]\n",
        "    deletes    = [left + right[1:]                       for left, right in splits if right]\n",
        "    inserts    = [left + c + right                       for left, right in splits for c in alphabets]\n",
        "    replaces   = [left + c + right[1:]                   for left, right in splits if right for c in alphabets]\n",
        "    transposes = [left + right[1] + right[0] + right[2:] for left, right in splits if len(right)>1]\n",
        "    return set(deletes + inserts + replaces + transposes)"
      ],
      "execution_count": 7,
      "outputs": []
    },
    {
      "cell_type": "code",
      "metadata": {
        "collapsed": true,
        "id": "moemUqSiHsUI"
      },
      "source": [
        "def edits_two(word):\n",
        "    \"Create all edits that are two edits away from `word`.\"\n",
        "    return (e2 for e1 in edits_one(word) for e2 in edits_one(e1))"
      ],
      "execution_count": 8,
      "outputs": []
    },
    {
      "cell_type": "code",
      "metadata": {
        "collapsed": true,
        "id": "YGmFi23JHsUI"
      },
      "source": [
        "def known(words):\n",
        "    \"The subset of `words` that appear in the `all_words`.\"\n",
        "    return set(word for word in words if word in all_words)"
      ],
      "execution_count": 9,
      "outputs": []
    },
    {
      "cell_type": "code",
      "metadata": {
        "collapsed": true,
        "id": "NML6qotLHsUJ"
      },
      "source": [
        "def possible_corrections(word):\n",
        "    \"Generate possible spelling corrections for word.\"\n",
        "    return (known([word]) or known(edits_one(word)) or known(edits_two(word)) or [word])"
      ],
      "execution_count": 10,
      "outputs": []
    },
    {
      "cell_type": "code",
      "metadata": {
        "collapsed": true,
        "id": "uSCTt4zxHsUJ"
      },
      "source": [
        "def prob(word, N=sum(all_words.values())): \n",
        "    \"Probability of `word`: Number of appearances of 'word' / total number of tokens\"\n",
        "    return all_words[word] / N"
      ],
      "execution_count": 11,
      "outputs": []
    },
    {
      "cell_type": "code",
      "metadata": {
        "colab": {
          "base_uri": "https://localhost:8080/"
        },
        "id": "tBCWmGKgHsUK",
        "outputId": "f288e6ad-773e-46ef-e26e-e7dcc625f417"
      },
      "source": [
        "print(len(set(edits_one(\"monney\"))))\n",
        "print(edits_one(\"monney\"))"
      ],
      "execution_count": 12,
      "outputs": [
        {
          "output_type": "stream",
          "name": "stdout",
          "text": [
            "336\n",
            "{'mojney', 'monmney', 'mohney', 'umonney', 'monneyk', 'motney', 'monnfey', 'mqonney', 'mofnney', 'monnecy', 'mhonney', 'monnewy', 'wmonney', 'sonney', 'msnney', 'monnen', 'mowney', 'monnjy', 'monnezy', 'monnuey', 'mwonney', 'monnzey', 'monyey', 'monniey', 'monnef', 'monneey', 'monnwy', 'meonney', 'dmonney', 'monneuy', 'mongey', 'mobnney', 'moncney', 'monny', 'monneyh', 'moniey', 'monneyt', 'monneyg', 'monnney', 'xonney', 'monndey', 'monnaey', 'mjonney', 'monnny', 'monnsy', 'ionney', 'moxney', 'mfnney', 'monnhey', 'monnety', 'mconney', 'bonney', 'monnky', 'eonney', 'monvney', 'ymonney', 'monxey', 'mgonney', 'monnedy', 'monnew', 'monnxey', 'mynney', 'mznney', 'monnez', 'monnev', 'monnvey', 'onney', 'monneyp', 'monpey', 'mdonney', 'monneyf', 'mkonney', 'monneyx', 'lmonney', 'tmonney', 'mvonney', 'monneqy', 'mouney', 'monngy', 'monrey', 'monnery', 'monngey', 'konney', 'monneya', 'mgnney', 'mosnney', 'moxnney', 'donney', 'mobney', 'ponney', 'pmonney', 'monnemy', 'mfonney', 'mtonney', 'monneyj', 'monniy', 'omnney', 'mwnney', 'modney', 'mopnney', 'wonney', 'vonney', 'moqnney', 'jmonney', 'monne', 'nmonney', 'mogney', 'monwey', 'lonney', 'monjney', 'conney', 'mozney', 'monnevy', 'mownney', 'monnyey', 'manney', 'monfey', 'monneys', 'monnej', 'mbonney', 'mrnney', 'mocnney', 'monneyw', 'monnee', 'moknney', 'mohnney', 'bmonney', 'mopney', 'monneny', 'mcnney', 'moiney', 'monnwey', 'mokney', 'mongney', 'monnel', 'mounney', 'monneyr', 'monneiy', 'xmonney', 'monnoy', 'monnrey', 'monnepy', 'motnney', 'mofney', 'monneyc', 'moonney', 'molney', 'honney', 'mondney', 'monneyb', 'mmonney', 'mnnney', 'monnxy', 'monnet', 'zonney', 'monnea', 'monneb', 'monneyz', 'monnyy', 'cmonney', 'moaney', 'monnem', 'mbnney', 'morney', 'hmonney', 'montney', 'moneey', 'mronney', 'monnely', 'molnney', 'monley', 'msonney', 'monnejy', 'monney', 'monneyq', 'monnjey', 'yonney', 'monneym', 'monsney', 'mognney', 'zmonney', 'moniney', 'monnmey', 'mnoney', 'moneny', 'monnefy', 'monnzy', 'monneu', 'monneky', 'emonney', 'mononey', 'mxnney', 'monfney', 'mtnney', 'monnty', 'ronney', 'moqney', 'monneyn', 'moynney', 'monnep', 'smonney', 'mnonney', 'monyney', 'monpney', 'monneg', 'monnvy', 'mosney', 'monneq', 'monnes', 'monnye', 'monhey', 'monnpey', 'monncy', 'monnexy', 'imonney', 'moeney', 'monbney', 'monjey', 'monnay', 'monnoey', 'monneay', 'momnney', 'monndy', 'muonney', 'mpnney', 'mlnney', 'moinney', 'monoey', 'monzey', 'monhney', 'modnney', 'monnei', 'moncey', 'monsey', 'mooney', 'monnegy', 'moanney', 'monwney', 'monzney', 'omonney', 'maonney', 'monneyo', 'monrney', 'monnkey', 'monncey', 'monnmy', 'monneyl', 'monaey', 'moneney', 'moznney', 'moenney', 'mornney', 'amonney', 'moyney', 'momney', 'mjnney', 'tonney', 'monnpy', 'mknney', 'monnec', 'monnfy', 'mvnney', 'mqnney', 'monneyy', 'monnry', 'mponney', 'mionney', 'uonney', 'monnhy', 'montey', 'nonney', 'mmnney', 'gonney', 'qonney', 'jonney', 'fmonney', 'mhnney', 'monxney', 'monneoy', 'aonney', 'vmonney', 'mojnney', 'qmonney', 'monnesy', 'monntey', 'monqey', 'monneyv', 'monneh', 'fonney', 'mxonney', 'mocney', 'movnney', 'monnuy', 'monnbey', 'monned', 'monnex', 'monneo', 'myonney', 'monneye', 'monnqy', 'monnehy', 'minney', 'monuey', 'munney', 'money', 'monbey', 'gmonney', 'monqney', 'monner', 'monneby', 'monneyi', 'monkney', 'monneyd', 'monvey', 'monnly', 'monlney', 'monneyu', 'oonney', 'kmonney', 'mondey', 'monnek', 'menney', 'monuney', 'monnsey', 'rmonney', 'monkey', 'monnby', 'mnney', 'mzonney', 'monmey', 'movney', 'monnley', 'mdnney', 'monaney', 'mlonney', 'monnqey'}\n"
          ]
        }
      ]
    },
    {
      "cell_type": "code",
      "metadata": {
        "colab": {
          "base_uri": "https://localhost:8080/"
        },
        "id": "Nvrf_UAyHsUK",
        "outputId": "6a711395-5aaa-4a80-901d-40b3a5fccee5"
      },
      "source": [
        "print(known(edits_one(\"monney\")))"
      ],
      "execution_count": 13,
      "outputs": [
        {
          "output_type": "stream",
          "name": "stdout",
          "text": [
            "{'monkey', 'money'}\n"
          ]
        }
      ]
    },
    {
      "cell_type": "code",
      "metadata": {
        "colab": {
          "base_uri": "https://localhost:8080/"
        },
        "id": "KEKWBxM2HsUK",
        "outputId": "1164e731-c363-447f-9a97-91ebbb598962"
      },
      "source": [
        "# Let's look at words that are two edits away\n",
        "print(len(set(edits_two(\"monney\"))))\n",
        "print(known(edits_one(\"monney\")))"
      ],
      "execution_count": 14,
      "outputs": [
        {
          "output_type": "stream",
          "name": "stdout",
          "text": [
            "51013\n",
            "{'monkey', 'money'}\n"
          ]
        }
      ]
    },
    {
      "cell_type": "code",
      "metadata": {
        "colab": {
          "base_uri": "https://localhost:8080/"
        },
        "id": "mkbPCVEkHsUL",
        "outputId": "64c2e317-9087-4a0e-f484-eaaf6cf8e288"
      },
      "source": [
        "# Let's look at possible corrections of a word\n",
        "print(possible_corrections(\"monney\"))"
      ],
      "execution_count": 15,
      "outputs": [
        {
          "output_type": "stream",
          "name": "stdout",
          "text": [
            "{'monkey', 'money'}\n"
          ]
        }
      ]
    },
    {
      "cell_type": "code",
      "metadata": {
        "colab": {
          "base_uri": "https://localhost:8080/"
        },
        "id": "-5hbxFAPHsUL",
        "outputId": "546022d3-6521-4d3c-aac7-7aa027a4e0de"
      },
      "source": [
        "# Let's look at probability of a word\n",
        "print(prob(\"money\"))\n",
        "print(prob(\"monkey\"))"
      ],
      "execution_count": 16,
      "outputs": [
        {
          "output_type": "stream",
          "name": "stdout",
          "text": [
            "0.0002922233626303688\n",
            "5.378344097491451e-06\n"
          ]
        }
      ]
    },
    {
      "cell_type": "code",
      "metadata": {
        "id": "OB-KQkOtHsUL"
      },
      "source": [
        "def spell_check(word):\n",
        "    \"Print the most probable spelling correction for `word` out of all the `possible_corrections`\"\n",
        "    correct_word = max(possible_corrections(word), key=prob)\n",
        "    if correct_word != word:\n",
        "        return \"Did you mean \" + correct_word + \"?\"\n",
        "    else:\n",
        "        return \"Correct spelling.\""
      ],
      "execution_count": 17,
      "outputs": []
    },
    {
      "cell_type": "code",
      "metadata": {
        "colab": {
          "base_uri": "https://localhost:8080/"
        },
        "id": "C0EZE31hHsUM",
        "outputId": "498090e9-a874-431e-8f38-c6900b8ea990"
      },
      "source": [
        "# test spell check\n",
        "print(spell_check(\"monney\"))"
      ],
      "execution_count": 18,
      "outputs": [
        {
          "output_type": "stream",
          "name": "stdout",
          "text": [
            "Did you mean money?\n"
          ]
        }
      ]
    },
    {
      "cell_type": "code",
      "metadata": {
        "id": "vum1zUPWtahY",
        "outputId": "02b55f84-8f24-479c-f8d2-b5f7b885aec3",
        "colab": {
          "base_uri": "https://localhost:8080/"
        }
      },
      "source": [
        "# test spell check\n",
        "print(possible_corrections(\"emfasize\"))"
      ],
      "execution_count": 30,
      "outputs": [
        {
          "output_type": "stream",
          "name": "stdout",
          "text": [
            "{'emphasize'}\n"
          ]
        }
      ]
    }
  ]
}