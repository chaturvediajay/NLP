{
  "nbformat": 4,
  "nbformat_minor": 0,
  "metadata": {
    "kernelspec": {
      "display_name": "Python 3",
      "language": "python",
      "name": "python3"
    },
    "language_info": {
      "codemirror_mode": {
        "name": "ipython",
        "version": 3
      },
      "file_extension": ".py",
      "mimetype": "text/x-python",
      "name": "python",
      "nbconvert_exporter": "python",
      "pygments_lexer": "ipython3",
      "version": "3.6.4"
    },
    "colab": {
      "name": "spell-corrector.ipynb",
      "provenance": [],
      "include_colab_link": true
    }
  },
  "cells": [
    {
      "cell_type": "markdown",
      "metadata": {
        "id": "view-in-github",
        "colab_type": "text"
      },
      "source": [
        "<a href=\"https://colab.research.google.com/github/chaturvediajay/NLP/blob/main/spell_corrector.ipynb\" target=\"_parent\"><img src=\"https://colab.research.google.com/assets/colab-badge.svg\" alt=\"Open In Colab\"/></a>"
      ]
    },
    {
      "cell_type": "code",
      "metadata": {
        "collapsed": true,
        "id": "v7UGHrU-HsUE"
      },
      "source": [
        "import re\n",
        "from collections import Counter"
      ],
      "execution_count": 2,
      "outputs": []
    },
    {
      "cell_type": "code",
      "metadata": {
        "colab": {
          "base_uri": "https://localhost:8080/"
        },
        "id": "EvU687vhHvwC",
        "outputId": "e0f610c0-c886-4349-dc83-e2da9ec87ddf"
      },
      "source": [
        "from google.colab import drive\n",
        "drive.mount('/content/drive')"
      ],
      "execution_count": 3,
      "outputs": [
        {
          "output_type": "stream",
          "name": "stdout",
          "text": [
            "Drive already mounted at /content/drive; to attempt to forcibly remount, call drive.mount(\"/content/drive\", force_remount=True).\n"
          ]
        }
      ]
    },
    {
      "cell_type": "code",
      "metadata": {
        "collapsed": true,
        "id": "Zv-ZsOC9HsUG"
      },
      "source": [
        "# function to tokenise words\n",
        "def words(document):\n",
        "    \"Convert text to lower case and tokenise the document\"\n",
        "    return re.findall(r'\\w+', document.lower())"
      ],
      "execution_count": 4,
      "outputs": []
    },
    {
      "cell_type": "code",
      "metadata": {
        "collapsed": true,
        "id": "EkOs0F0NHsUG"
      },
      "source": [
        "# create a frequency table of all the words of the document\n",
        "all_words = Counter(words(open('/content/drive/MyDrive/al_ml_project/NLP/big.txt').read()))"
      ],
      "execution_count": 5,
      "outputs": []
    },
    {
      "cell_type": "code",
      "metadata": {
        "colab": {
          "base_uri": "https://localhost:8080/"
        },
        "id": "dkAlb_N5HsUH",
        "outputId": "6e6c6943-f84f-449a-c1f3-6c19fb8edfc3"
      },
      "source": [
        "# check frequency of a random word, say, 'chair'\n",
        "all_words['chair']"
      ],
      "execution_count": 6,
      "outputs": [
        {
          "output_type": "execute_result",
          "data": {
            "text/plain": [
              "135"
            ]
          },
          "metadata": {},
          "execution_count": 6
        }
      ]
    },
    {
      "cell_type": "code",
      "metadata": {
        "colab": {
          "base_uri": "https://localhost:8080/"
        },
        "id": "pz74IniqHsUH",
        "outputId": "8ad4a687-d08d-452b-e37c-4ad841a9cbc2"
      },
      "source": [
        "# look at top 10 frequent words\n",
        "all_words.most_common(10)"
      ],
      "execution_count": 7,
      "outputs": [
        {
          "output_type": "execute_result",
          "data": {
            "text/plain": [
              "[('the', 79809),\n",
              " ('of', 40024),\n",
              " ('and', 38312),\n",
              " ('to', 28765),\n",
              " ('in', 22023),\n",
              " ('a', 21124),\n",
              " ('that', 12512),\n",
              " ('he', 12401),\n",
              " ('was', 11410),\n",
              " ('it', 10681)]"
            ]
          },
          "metadata": {},
          "execution_count": 7
        }
      ]
    },
    {
      "cell_type": "code",
      "metadata": {
        "collapsed": true,
        "id": "c0mlWdGeHsUH"
      },
      "source": [
        "def edits_one(word):\n",
        "    \"Create all edits that are one edit away from `word`.\"\n",
        "    alphabets    = 'abcdefghijklmnopqrstuvwxyz'\n",
        "    splits     = [(word[:i], word[i:])                   for i in range(len(word) + 1)]\n",
        "    deletes    = [left + right[1:]                       for left, right in splits if right]\n",
        "    inserts    = [left + c + right                       for left, right in splits for c in alphabets]\n",
        "    replaces   = [left + c + right[1:]                   for left, right in splits if right for c in alphabets]\n",
        "    transposes = [left + right[1] + right[0] + right[2:] for left, right in splits if len(right)>1]\n",
        "    return set(deletes + inserts + replaces + transposes)"
      ],
      "execution_count": 8,
      "outputs": []
    },
    {
      "cell_type": "code",
      "metadata": {
        "collapsed": true,
        "id": "moemUqSiHsUI"
      },
      "source": [
        "def edits_two(word):\n",
        "    \"Create all edits that are two edits away from `word`.\"\n",
        "    return (e2 for e1 in edits_one(word) for e2 in edits_one(e1))"
      ],
      "execution_count": 9,
      "outputs": []
    },
    {
      "cell_type": "code",
      "metadata": {
        "collapsed": true,
        "id": "YGmFi23JHsUI"
      },
      "source": [
        "def known(words):\n",
        "    \"The subset of `words` that appear in the `all_words`.\"\n",
        "    return set(word for word in words if word in all_words)"
      ],
      "execution_count": 10,
      "outputs": []
    },
    {
      "cell_type": "code",
      "metadata": {
        "collapsed": true,
        "id": "NML6qotLHsUJ"
      },
      "source": [
        "def possible_corrections(word):\n",
        "    \"Generate possible spelling corrections for word.\"\n",
        "    return (known([word]) or known(edits_one(word)) or known(edits_two(word)) or [word])"
      ],
      "execution_count": 11,
      "outputs": []
    },
    {
      "cell_type": "code",
      "metadata": {
        "collapsed": true,
        "id": "uSCTt4zxHsUJ"
      },
      "source": [
        "def prob(word, N=sum(all_words.values())): \n",
        "    \"Probability of `word`: Number of appearances of 'word' / total number of tokens\"\n",
        "    return all_words[word] / N"
      ],
      "execution_count": 12,
      "outputs": []
    },
    {
      "cell_type": "code",
      "metadata": {
        "colab": {
          "base_uri": "https://localhost:8080/"
        },
        "id": "tBCWmGKgHsUK",
        "outputId": "b9cee97a-5640-4d94-b844-413e101b75a6"
      },
      "source": [
        "print(len(set(edits_one(\"monney\"))))\n",
        "print(edits_one(\"monney\"))"
      ],
      "execution_count": 13,
      "outputs": [
        {
          "output_type": "stream",
          "name": "stdout",
          "text": [
            "336\n",
            "{'monuney', 'monzey', 'monyney', 'monnyey', 'aonney', 'mokney', 'cmonney', 'mronney', 'menney', 'mrnney', 'monaey', 'meonney', 'monxney', 'monsney', 'monneyj', 'mogney', 'mdnney', 'moknney', 'munney', 'uonney', 'monnep', 'monnwy', 'monncy', 'mhnney', 'monneiy', 'monneyg', 'tonney', 'mfonney', 'mnney', 'monneyz', 'monneyp', 'mionney', 'monnyy', 'smonney', 'monniy', 'monneya', 'monney', 'monnsy', 'mnoney', 'monnye', 'mnonney', 'mznney', 'fmonney', 'moaney', 'minney', 'kmonney', 'mowney', 'mpnney', 'monncey', 'monneyo', 'mxonney', 'monnby', 'msnney', 'monrey', 'monneyy', 'monngey', 'monnem', 'monhey', 'tmonney', 'jmonney', 'monnex', 'monnew', 'mkonney', 'mlnney', 'ionney', 'nonney', 'rmonney', 'monnen', 'mqnney', 'mocney', 'montey', 'monne', 'mfnney', 'monneny', 'honney', 'monnuy', 'mohnney', 'monnedy', 'mondney', 'mwnney', 'monnez', 'monneyr', 'moxnney', 'monneyv', 'movnney', 'monneb', 'monneyl', 'ponney', 'mobnney', 'monneyd', 'moneey', 'monoey', 'moiney', 'monnuey', 'monyey', 'monnely', 'monmney', 'monnaey', 'monneyb', 'mojnney', 'money', 'monntey', 'moncney', 'monnefy', 'oonney', 'monnvey', 'moinney', 'molney', 'mobney', 'konney', 'monbney', 'motney', 'monnei', 'monnehy', 'moneny', 'mgnney', 'myonney', 'maonney', 'mocnney', 'monzney', 'moneney', 'monsey', 'mjnney', 'monfney', 'monnjy', 'monrney', 'bonney', 'mconney', 'monnet', 'mlonney', 'monnpy', 'mondey', 'monnney', 'moanney', 'monnes', 'monndy', 'mvonney', 'movney', 'amonney', 'monndey', 'monned', 'mongney', 'monneyx', 'monnfey', 'omonney', 'monnoey', 'ymonney', 'momnney', 'monmey', 'monneyh', 'donney', 'monngy', 'monnpey', 'yonney', 'monneky', 'xmonney', 'emonney', 'mponney', 'monnxey', 'mynney', 'omnney', 'mzonney', 'onney', 'monvey', 'monnny', 'monxey', 'monnky', 'dmonney', 'monnepy', 'monnel', 'monneym', 'monnley', 'mgonney', 'moncey', 'monnef', 'qonney', 'mvnney', 'manney', 'mopney', 'qmonney', 'monuey', 'monneq', 'moxney', 'moynney', 'mounney', 'monnbey', 'monpney', 'monnexy', 'imonney', 'monnly', 'monnqey', 'moqney', 'mbnney', 'mmonney', 'monnrey', 'gmonney', 'monnea', 'moonney', 'monneyt', 'monkney', 'monwney', 'monneh', 'monnewy', 'monneyf', 'monneyc', 'motnney', 'mxnney', 'monlney', 'monnev', 'monnmy', 'monnvy', 'moyney', 'monnecy', 'monneyn', 'monneu', 'monneey', 'monneg', 'monniey', 'monnxy', 'mwonney', 'muonney', 'vonney', 'pmonney', 'vmonney', 'moniey', 'ronney', 'monnesy', 'mornney', 'monjney', 'monner', 'sonney', 'mnnney', 'monqey', 'monnjey', 'monwey', 'mofnney', 'monnzy', 'modney', 'jonney', 'monnhey', 'monnety', 'monnzey', 'monnry', 'mojney', 'monnay', 'mouney', 'monneye', 'xonney', 'monnemy', 'monneyk', 'monnek', 'monnsey', 'mcnney', 'monhney', 'mqonney', 'mozney', 'monneoy', 'monnevy', 'moznney', 'monneay', 'eonney', 'monneo', 'morney', 'monnejy', 'mosney', 'mononey', 'monnhy', 'mtonney', 'montney', 'monny', 'moqnney', 'mknney', 'monnty', 'monneuy', 'monnoy', 'umonney', 'mognney', 'mongey', 'monqney', 'mownney', 'nmonney', 'monnqy', 'mosnney', 'mopnney', 'lonney', 'bmonney', 'mjonney', 'lmonney', 'conney', 'mooney', 'modnney', 'monaney', 'msonney', 'wonney', 'monnfy', 'monnezy', 'moeney', 'wmonney', 'monnmey', 'mhonney', 'monnwey', 'gonney', 'monnee', 'monley', 'molnney', 'monneyi', 'hmonney', 'monnej', 'momney', 'monkey', 'mbonney', 'monpey', 'zmonney', 'monneby', 'zonney', 'monnec', 'monvney', 'moniney', 'monnegy', 'monbey', 'monjey', 'mmnney', 'monnery', 'mohney', 'monnkey', 'monneyu', 'monneyq', 'mofney', 'mdonney', 'monneqy', 'monfey', 'moenney', 'monneyw', 'mtnney', 'fonney', 'monneys'}\n"
          ]
        }
      ]
    },
    {
      "cell_type": "code",
      "metadata": {
        "colab": {
          "base_uri": "https://localhost:8080/"
        },
        "id": "Nvrf_UAyHsUK",
        "outputId": "a27fadb4-2c58-4616-9ca3-b75b69abc9e1"
      },
      "source": [
        "print(known(edits_one(\"monney\")))"
      ],
      "execution_count": 14,
      "outputs": [
        {
          "output_type": "stream",
          "name": "stdout",
          "text": [
            "{'monkey', 'money'}\n"
          ]
        }
      ]
    },
    {
      "cell_type": "code",
      "metadata": {
        "colab": {
          "base_uri": "https://localhost:8080/"
        },
        "id": "KEKWBxM2HsUK",
        "outputId": "5baa1e17-b724-46d5-d799-d590f14d017d"
      },
      "source": [
        "# Let's look at words that are two edits away\n",
        "print(len(set(edits_two(\"monney\"))))\n",
        "print(known(edits_one(\"monney\")))"
      ],
      "execution_count": 15,
      "outputs": [
        {
          "output_type": "stream",
          "name": "stdout",
          "text": [
            "51013\n",
            "{'monkey', 'money'}\n"
          ]
        }
      ]
    },
    {
      "cell_type": "code",
      "metadata": {
        "colab": {
          "base_uri": "https://localhost:8080/"
        },
        "id": "mkbPCVEkHsUL",
        "outputId": "c107f787-7a26-4a74-fb03-f64d6a1d0371"
      },
      "source": [
        "# Let's look at possible corrections of a word\n",
        "print(possible_corrections(\"monney\"))"
      ],
      "execution_count": 16,
      "outputs": [
        {
          "output_type": "stream",
          "name": "stdout",
          "text": [
            "{'monkey', 'money'}\n"
          ]
        }
      ]
    },
    {
      "cell_type": "code",
      "metadata": {
        "colab": {
          "base_uri": "https://localhost:8080/"
        },
        "id": "-5hbxFAPHsUL",
        "outputId": "a061ba2a-484e-4605-bec7-5ee1aae9c064"
      },
      "source": [
        "# Let's look at probability of a word\n",
        "print(prob(\"money\"))\n",
        "print(prob(\"monkey\"))"
      ],
      "execution_count": 17,
      "outputs": [
        {
          "output_type": "stream",
          "name": "stdout",
          "text": [
            "0.0002922233626303688\n",
            "5.378344097491451e-06\n"
          ]
        }
      ]
    },
    {
      "cell_type": "code",
      "metadata": {
        "id": "OB-KQkOtHsUL"
      },
      "source": [
        "def spell_check(word):\n",
        "    \"Print the most probable spelling correction for `word` out of all the `possible_corrections`\"\n",
        "    correct_word = max(possible_corrections(word), key=prob)\n",
        "    if correct_word != word:\n",
        "        return \"Did you mean \" + correct_word + \"?\"\n",
        "    else:\n",
        "        return \"Correct spelling.\""
      ],
      "execution_count": 18,
      "outputs": []
    },
    {
      "cell_type": "code",
      "metadata": {
        "colab": {
          "base_uri": "https://localhost:8080/"
        },
        "id": "C0EZE31hHsUM",
        "outputId": "4c6c31a4-b21e-4488-af35-22419c7ba443"
      },
      "source": [
        "# test spell check\n",
        "print(spell_check(\"monney\"))"
      ],
      "execution_count": 19,
      "outputs": [
        {
          "output_type": "stream",
          "name": "stdout",
          "text": [
            "Did you mean money?\n"
          ]
        }
      ]
    }
  ]
}