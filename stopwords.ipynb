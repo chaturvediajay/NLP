{
  "nbformat": 4,
  "nbformat_minor": 0,
  "metadata": {
    "kernelspec": {
      "display_name": "Python 3",
      "language": "python",
      "name": "python3"
    },
    "language_info": {
      "codemirror_mode": {
        "name": "ipython",
        "version": 3
      },
      "file_extension": ".py",
      "mimetype": "text/x-python",
      "name": "python",
      "nbconvert_exporter": "python",
      "pygments_lexer": "ipython3",
      "version": "3.6.5"
    },
    "colab": {
      "name": "stopwords.ipynb",
      "provenance": [],
      "include_colab_link": true
    }
  },
  "cells": [
    {
      "cell_type": "markdown",
      "metadata": {
        "id": "view-in-github",
        "colab_type": "text"
      },
      "source": [
        "<a href=\"https://colab.research.google.com/github/chaturvediajay/NLP/blob/main/stopwords.ipynb\" target=\"_parent\"><img src=\"https://colab.research.google.com/assets/colab-badge.svg\" alt=\"Open In Colab\"/></a>"
      ]
    },
    {
      "cell_type": "markdown",
      "metadata": {
        "id": "6eys22oSb_Aw"
      },
      "source": [
        "## Plotting word frequencies"
      ]
    },
    {
      "cell_type": "code",
      "metadata": {
        "collapsed": true,
        "id": "RNU9AwE8b_Ay"
      },
      "source": [
        "import requests\n",
        "from nltk import FreqDist\n",
        "from nltk.corpus import stopwords\n",
        "import seaborn as sns\n",
        "%matplotlib inline"
      ],
      "execution_count": null,
      "outputs": []
    },
    {
      "cell_type": "markdown",
      "metadata": {
        "id": "0g5mhl8fb_A0"
      },
      "source": [
        "Download text of 'Alice in Wonderland' ebook from https://www.gutenberg.org/"
      ]
    },
    {
      "cell_type": "code",
      "metadata": {
        "id": "Rr9QsAiXb_A0"
      },
      "source": [
        "url = \"https://www.gutenberg.org/files/11/11-0.txt\"\n",
        "alice = requests.get(url)\n",
        "print(alice.text)"
      ],
      "execution_count": null,
      "outputs": []
    },
    {
      "cell_type": "markdown",
      "metadata": {
        "id": "zC57ktG7b_A2"
      },
      "source": [
        "Define a function to plot word frequencies"
      ]
    },
    {
      "cell_type": "code",
      "metadata": {
        "collapsed": true,
        "id": "P0kREsAzb_A2"
      },
      "source": [
        "def plot_word_frequency(words, top_n=10):\n",
        "    word_freq = FreqDist(words)\n",
        "    labels = [element[0] for element in word_freq.most_common(top_n)]\n",
        "    counts = [element[1] for element in word_freq.most_common(top_n)]\n",
        "    plot = sns.barplot(labels, counts)\n",
        "    return plot"
      ],
      "execution_count": null,
      "outputs": []
    },
    {
      "cell_type": "markdown",
      "metadata": {
        "id": "ZY-lMbwob_A3"
      },
      "source": [
        "Plot words frequencies present in the gutenberg corpus "
      ]
    },
    {
      "cell_type": "code",
      "metadata": {
        "id": "xJBoUPqDb_A3",
        "outputId": "11c7f1fb-7987-4d31-da63-f26495163552"
      },
      "source": [
        "alice_words = alice.text.split()\n",
        "plot_word_frequency(alice_words, 15)"
      ],
      "execution_count": null,
      "outputs": [
        {
          "data": {
            "text/plain": [
              "<matplotlib.axes._subplots.AxesSubplot at 0x154514d26a0>"
            ]
          },
          "execution_count": 6,
          "metadata": {},
          "output_type": "execute_result"
        },
        {
          "data": {
            "image/png": "[encoded data removed]",
            "text/plain": [
              "<matplotlib.figure.Figure at 0x15450e451d0>"
            ]
          },
          "metadata": {},
          "output_type": "display_data"
        }
      ]
    },
    {
      "cell_type": "markdown",
      "metadata": {
        "id": "xckr4w0ob_A4"
      },
      "source": [
        "## Stopwords"
      ]
    },
    {
      "cell_type": "markdown",
      "metadata": {
        "id": "xrvSZ_Psb_A4"
      },
      "source": [
        "Import stopwords from nltk"
      ]
    },
    {
      "cell_type": "code",
      "metadata": {
        "collapsed": true,
        "id": "zbQJwbBLb_A5"
      },
      "source": [
        "from nltk.corpus import stopwords"
      ],
      "execution_count": null,
      "outputs": []
    },
    {
      "cell_type": "markdown",
      "metadata": {
        "id": "b9xgjovHb_A5"
      },
      "source": [
        "Look at the list of stopwords"
      ]
    },
    {
      "cell_type": "code",
      "metadata": {
        "id": "fk7BZpSIb_A6",
        "outputId": "389b28ae-2c8e-40f2-8070-d8cdc1554ad5"
      },
      "source": [
        "print(stopwords.words('english'))"
      ],
      "execution_count": null,
      "outputs": [
        {
          "name": "stdout",
          "output_type": "stream",
          "text": [
            "['i', 'me', 'my', 'myself', 'we', 'our', 'ours', 'ourselves', 'you', \"you're\", \"you've\", \"you'll\", \"you'd\", 'your', 'yours', 'yourself', 'yourselves', 'he', 'him', 'his', 'himself', 'she', \"she's\", 'her', 'hers', 'herself', 'it', \"it's\", 'its', 'itself', 'they', 'them', 'their', 'theirs', 'themselves', 'what', 'which', 'who', 'whom', 'this', 'that', \"that'll\", 'these', 'those', 'am', 'is', 'are', 'was', 'were', 'be', 'been', 'being', 'have', 'has', 'had', 'having', 'do', 'does', 'did', 'doing', 'a', 'an', 'the', 'and', 'but', 'if', 'or', 'because', 'as', 'until', 'while', 'of', 'at', 'by', 'for', 'with', 'about', 'against', 'between', 'into', 'through', 'during', 'before', 'after', 'above', 'below', 'to', 'from', 'up', 'down', 'in', 'out', 'on', 'off', 'over', 'under', 'again', 'further', 'then', 'once', 'here', 'there', 'when', 'where', 'why', 'how', 'all', 'any', 'both', 'each', 'few', 'more', 'most', 'other', 'some', 'such', 'no', 'nor', 'not', 'only', 'own', 'same', 'so', 'than', 'too', 'very', 's', 't', 'can', 'will', 'just', 'don', \"don't\", 'should', \"should've\", 'now', 'd', 'll', 'm', 'o', 're', 've', 'y', 'ain', 'aren', \"aren't\", 'couldn', \"couldn't\", 'didn', \"didn't\", 'doesn', \"doesn't\", 'hadn', \"hadn't\", 'hasn', \"hasn't\", 'haven', \"haven't\", 'isn', \"isn't\", 'ma', 'mightn', \"mightn't\", 'mustn', \"mustn't\", 'needn', \"needn't\", 'shan', \"shan't\", 'shouldn', \"shouldn't\", 'wasn', \"wasn't\", 'weren', \"weren't\", 'won', \"won't\", 'wouldn', \"wouldn't\"]\n"
          ]
        }
      ]
    },
    {
      "cell_type": "markdown",
      "metadata": {
        "id": "Oo1ABLUyb_A6"
      },
      "source": [
        "Let's remove stopwords from the following piece of text."
      ]
    },
    {
      "cell_type": "code",
      "metadata": {
        "collapsed": true,
        "id": "PHS-ETGEb_A7"
      },
      "source": [
        "sample_text = \"the great aim of education is not knowledge but action\""
      ],
      "execution_count": null,
      "outputs": []
    },
    {
      "cell_type": "markdown",
      "metadata": {
        "id": "-XR74WItb_A7"
      },
      "source": [
        "Break text into words"
      ]
    },
    {
      "cell_type": "code",
      "metadata": {
        "id": "4YIPrA2wb_A7",
        "outputId": "eab54db2-356b-45ef-f374-fe02ad6a44a5"
      },
      "source": [
        "sample_words = sample_text.split()\n",
        "print(sample_words)"
      ],
      "execution_count": null,
      "outputs": [
        {
          "name": "stdout",
          "output_type": "stream",
          "text": [
            "['the', 'great', 'aim', 'of', 'education', 'is', 'not', 'knowledge', 'but', 'action']\n"
          ]
        }
      ]
    },
    {
      "cell_type": "markdown",
      "metadata": {
        "id": "V0BVvB4Rb_A8"
      },
      "source": [
        "Remove stopwords"
      ]
    },
    {
      "cell_type": "code",
      "metadata": {
        "id": "0RhhsDPGb_A8",
        "outputId": "f1743260-ee92-46ac-d2dc-ce0be9239b86"
      },
      "source": [
        "sample_words = [word for word in sample_words if word not in stopwords.words('english')]\n",
        "print(sample_words)"
      ],
      "execution_count": null,
      "outputs": [
        {
          "name": "stdout",
          "output_type": "stream",
          "text": [
            "['great', 'aim', 'education', 'knowledge', 'action']\n"
          ]
        }
      ]
    },
    {
      "cell_type": "markdown",
      "metadata": {
        "id": "A5m-HXAub_A9"
      },
      "source": [
        "Join words back to sentence"
      ]
    },
    {
      "cell_type": "code",
      "metadata": {
        "id": "exeJV8cZb_A9",
        "outputId": "4e017354-bf86-4d20-da16-fc58f69ef461"
      },
      "source": [
        "sample_text = \" \".join(sample_words)\n",
        "print(sample_text)"
      ],
      "execution_count": null,
      "outputs": [
        {
          "name": "stdout",
          "output_type": "stream",
          "text": [
            "great aim education knowledge action\n"
          ]
        }
      ]
    },
    {
      "cell_type": "markdown",
      "metadata": {
        "id": "GaHjY6HIb_A-"
      },
      "source": [
        "## Removing stopwords in the genesis corpus"
      ]
    },
    {
      "cell_type": "code",
      "metadata": {
        "collapsed": true,
        "id": "QjiPqwHSb_A-"
      },
      "source": [
        "no_stops = [word for word in alice_words if word not in stopwords.words(\"english\")]"
      ],
      "execution_count": null,
      "outputs": []
    },
    {
      "cell_type": "code",
      "metadata": {
        "id": "Nl5S4r7Db_A_",
        "outputId": "5a9052cb-dd80-45eb-a81c-298a729a9a4b"
      },
      "source": [
        "plot_word_frequency(no_stops, 10)"
      ],
      "execution_count": null,
      "outputs": [
        {
          "data": {
            "text/plain": [
              "<matplotlib.axes._subplots.AxesSubplot at 0x154519bbe80>"
            ]
          },
          "execution_count": 17,
          "metadata": {},
          "output_type": "execute_result"
        },
        {
          "data": {
            "image/png": "[encoded data removed]",
            "text/plain": [
              "<matplotlib.figure.Figure at 0x15450e82128>"
            ]
          },
          "metadata": {},
          "output_type": "display_data"
        }
      ]
    },
    {
      "cell_type": "markdown",
      "metadata": {
        "id": "DoasjS26b_BA"
      },
      "source": [
        "Some other things that can be done\n",
        "* Need to change tokens to lower case\n",
        "* Need to get rid of punctuations\n",
        "\n",
        "All the preprocessing steps will be covered while creating the classifier"
      ]
    }
  ]
}